{
  "nbformat": 4,
  "nbformat_minor": 0,
  "metadata": {
    "colab": {
      "name": "NLoN_PY.ipynb",
      "provenance": [],
      "collapsed_sections": [],
      "toc_visible": true,
      "authorship_tag": "ABX9TyM17MbBGQXEMdsUGkWhfeZx",
      "include_colab_link": true
    },
    "kernelspec": {
      "name": "python3",
      "display_name": "Python 3"
    },
    "language_info": {
      "name": "python"
    }
  },
  "cells": [
    {
      "cell_type": "markdown",
      "metadata": {
        "id": "view-in-github",
        "colab_type": "text"
      },
      "source": [
        "<a href=\"https://colab.research.google.com/github/Jianwen-Xu/NLoN-PY/blob/master/NLoN_PY.ipynb\" target=\"_parent\"><img src=\"https://colab.research.google.com/assets/colab-badge.svg\" alt=\"Open In Colab\"/></a>"
      ]
    },
    {
      "cell_type": "markdown",
      "metadata": {
        "id": "avhkFUwObsNh"
      },
      "source": [
        "# Natural language or not - python implementation"
      ]
    },
    {
      "cell_type": "markdown",
      "metadata": {
        "id": "vbjXl3OtbYL6"
      },
      "source": [
        "## Install and import the NLoN_PY package"
      ]
    },
    {
      "cell_type": "code",
      "metadata": {
        "id": "L-YI02txHIsh"
      },
      "source": [
        "# !pip install nlon-py\n",
        "import nlon_py"
      ],
      "execution_count": null,
      "outputs": []
    },
    {
      "cell_type": "markdown",
      "metadata": {
        "id": "kvVgyobmb7Fk"
      },
      "source": [
        "## Use the default model to predict text"
      ]
    },
    {
      "cell_type": "code",
      "metadata": {
        "id": "412fxgmgwhZo",
        "colab": {
          "base_uri": "https://localhost:8080/"
        },
        "outputId": "8a0c49ab-12c0-4ad3-a301-763ee6fcdeef"
      },
      "source": [
        "from nlon_py.data.build_model import loadDefaultModel, transform_data\n",
        "from nlon_py.model import NLoNPredict\n",
        "\n",
        "model = loadDefaultModel()\n",
        "print(model)\n"
      ],
      "execution_count": null,
      "outputs": [
        {
          "output_type": "stream",
          "text": [
            "Pipeline(steps=[('standardscaler', StandardScaler()),\n",
            "                ('svc',\n",
            "                 SVC(kernel='linear', probability=True, random_state=0))])\n"
          ],
          "name": "stdout"
        }
      ]
    },
    {
      "cell_type": "code",
      "metadata": {
        "colab": {
          "base_uri": "https://localhost:8080/"
        },
        "id": "2QCSAPAqcMUF",
        "outputId": "0d295148-2e2c-49a4-b794-d4ba1e55218a"
      },
      "source": [
        "text = ['This is natural language.',\n",
        "        'public void NotNaturalLanguageFunction(int i, String s)']\n",
        "y = NLoNPredict(model, transform_data(text))\n",
        "print(y)"
      ],
      "execution_count": null,
      "outputs": [
        {
          "output_type": "stream",
          "text": [
            "['NL', 'CODE']\n"
          ],
          "name": "stdout"
        }
      ]
    },
    {
      "cell_type": "markdown",
      "metadata": {
        "id": "IrCbWaU6e910"
      },
      "source": [
        "## Search better params for the model"
      ]
    },
    {
      "cell_type": "code",
      "metadata": {
        "id": "JHWUshtXfBju"
      },
      "source": [
        "from nlon_py.data.build_model import searchParams\n",
        "searchParams()"
      ],
      "execution_count": null,
      "outputs": []
    }
  ]
}